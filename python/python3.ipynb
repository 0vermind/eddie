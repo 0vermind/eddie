{
 "cells": [
  {
   "cell_type": "code",
   "execution_count": 1,
   "metadata": {
    "collapsed": false
   },
   "outputs": [
    {
     "data": {
      "text/plain": [
       "'3.4.0 (default, Jun 19 2015, 14:20:21) \\n[GCC 4.8.2]'"
      ]
     },
     "execution_count": 1,
     "metadata": {},
     "output_type": "execute_result"
    }
   ],
   "source": [
    "import sys\n",
    "sys.version"
   ]
  },
  {
   "cell_type": "code",
   "execution_count": null,
   "metadata": {
    "collapsed": true
   },
   "outputs": [],
   "source": []
  },
  {
   "cell_type": "markdown",
   "metadata": {},
   "source": [
    "## str"
   ]
  },
  {
   "cell_type": "code",
   "execution_count": 2,
   "metadata": {
    "collapsed": false
   },
   "outputs": [
    {
     "data": {
      "text/plain": [
       "'Foo'"
      ]
     },
     "execution_count": 2,
     "metadata": {},
     "output_type": "execute_result"
    }
   ],
   "source": [
    "'foo'.title()"
   ]
  },
  {
   "cell_type": "code",
   "execution_count": 47,
   "metadata": {
    "collapsed": false
   },
   "outputs": [
    {
     "name": "stdout",
     "output_type": "stream",
     "text": [
      "01\n"
     ]
    }
   ],
   "source": [
    "#print Numbers with leading zero\n",
    "print(str(1).zfill(2))"
   ]
  },
  {
   "cell_type": "code",
   "execution_count": 4,
   "metadata": {
    "collapsed": false
   },
   "outputs": [
    {
     "data": {
      "text/plain": [
       "'ffbar'"
      ]
     },
     "execution_count": 4,
     "metadata": {},
     "output_type": "execute_result"
    }
   ],
   "source": [
    "# strip all spaces\n",
    "''.join(' \\n ff \\n bar \\t '.split()) "
   ]
  },
  {
   "cell_type": "code",
   "execution_count": 5,
   "metadata": {
    "collapsed": false
   },
   "outputs": [
    {
     "data": {
      "text/plain": [
       "True"
      ]
     },
     "execution_count": 5,
     "metadata": {},
     "output_type": "execute_result"
    }
   ],
   "source": [
    "'test.py'.startswith('test')\n",
    "'test.py'.endswith('.py')"
   ]
  },
  {
   "cell_type": "code",
   "execution_count": null,
   "metadata": {
    "collapsed": true
   },
   "outputs": [],
   "source": []
  },
  {
   "cell_type": "markdown",
   "metadata": {},
   "source": [
    "## dict"
   ]
  },
  {
   "cell_type": "code",
   "execution_count": 6,
   "metadata": {
    "collapsed": false
   },
   "outputs": [],
   "source": [
    "foo = 1\n",
    "bar = 2\n",
    "\n",
    "# create dict from variables\n",
    "d = dict(((k, globals()[k]) for k in ('foo', 'bar')))  \n",
    "\n",
    "#sort dict based on value\n",
    "import operator\n",
    "#sorted(d.iteritems(), key=operator.itemgetter(1)) "
   ]
  },
  {
   "cell_type": "code",
   "execution_count": null,
   "metadata": {
    "collapsed": true
   },
   "outputs": [],
   "source": []
  },
  {
   "cell_type": "markdown",
   "metadata": {},
   "source": [
    "## lists"
   ]
  },
  {
   "cell_type": "code",
   "execution_count": 7,
   "metadata": {
    "collapsed": false
   },
   "outputs": [
    {
     "name": "stdout",
     "output_type": "stream",
     "text": [
      "['baz', 'bar', 'foo']\n"
     ]
    }
   ],
   "source": [
    "# reverse a list\n",
    "l = [\"foo\",\"bar\",\"baz\"]\n",
    "print(l[::-1])"
   ]
  },
  {
   "cell_type": "code",
   "execution_count": 8,
   "metadata": {
    "collapsed": false
   },
   "outputs": [
    {
     "name": "stdout",
     "output_type": "stream",
     "text": [
      "1\n"
     ]
    }
   ],
   "source": [
    "# index of an item in a list\n",
    "print(l.index('bar'))"
   ]
  },
  {
   "cell_type": "code",
   "execution_count": 9,
   "metadata": {
    "collapsed": false
   },
   "outputs": [
    {
     "data": {
      "text/plain": [
       "[(2, 3), (1, 2), (0, 1)]"
      ]
     },
     "execution_count": 9,
     "metadata": {},
     "output_type": "execute_result"
    }
   ],
   "source": [
    "# reverse a list with index also\n",
    "list(reversed(list(enumerate([1,2,3]))))"
   ]
  },
  {
   "cell_type": "code",
   "execution_count": 10,
   "metadata": {
    "collapsed": false
   },
   "outputs": [
    {
     "name": "stdout",
     "output_type": "stream",
     "text": [
      "2\n"
     ]
    }
   ],
   "source": [
    "# list comprehension doesn't leak variable\n",
    "x = 2\n",
    "y = [x for x in l]\n",
    "print(x)"
   ]
  },
  {
   "cell_type": "code",
   "execution_count": null,
   "metadata": {
    "collapsed": true
   },
   "outputs": [],
   "source": []
  },
  {
   "cell_type": "markdown",
   "metadata": {},
   "source": [
    "## tuples\n",
    "\n",
    "Tuples are immutable and usually contains heterogeneous sequence of elements"
   ]
  },
  {
   "cell_type": "code",
   "execution_count": null,
   "metadata": {
    "collapsed": true
   },
   "outputs": [],
   "source": []
  },
  {
   "cell_type": "markdown",
   "metadata": {},
   "source": [
    "# files"
   ]
  },
  {
   "cell_type": "code",
   "execution_count": 11,
   "metadata": {
    "collapsed": false
   },
   "outputs": [
    {
     "name": "stdout",
     "output_type": "stream",
     "text": [
      "4\n",
      "4\n"
     ]
    }
   ],
   "source": [
    "# line count\n",
    "test_file = './exercise/foo.txt'\n",
    "print(sum(1 for line in open(test_file)))\n",
    "print(len(open(test_file).read().splitlines()))"
   ]
  },
  {
   "cell_type": "code",
   "execution_count": 12,
   "metadata": {
    "collapsed": false
   },
   "outputs": [
    {
     "name": "stdout",
     "output_type": "stream",
     "text": [
      "asas\n",
      "s\n",
      "asant\n",
      "said\n",
      "\n"
     ]
    }
   ],
   "source": [
    "# read file into string\n",
    "data = open(test_file).read()  \n",
    "print(data)"
   ]
  },
  {
   "cell_type": "code",
   "execution_count": null,
   "metadata": {
    "collapsed": false
   },
   "outputs": [],
   "source": []
  },
  {
   "cell_type": "markdown",
   "metadata": {},
   "source": [
    "# builtin functions"
   ]
  },
  {
   "cell_type": "code",
   "execution_count": 13,
   "metadata": {
    "collapsed": false
   },
   "outputs": [
    {
     "name": "stdout",
     "output_type": "stream",
     "text": [
      "[('a', 0), ('s', 1), ('d', 2), ('f', 3)]\n"
     ]
    }
   ],
   "source": [
    "#zip, unzip\n",
    "print(list(zip('asdf', range(4))))"
   ]
  },
  {
   "cell_type": "code",
   "execution_count": 14,
   "metadata": {
    "collapsed": false
   },
   "outputs": [
    {
     "name": "stdout",
     "output_type": "stream",
     "text": [
      "def foo():\n",
      "    return 'foo'\n",
      "\n"
     ]
    }
   ],
   "source": [
    "#print function source code\n",
    "def foo():\n",
    "    return 'foo'\n",
    "\n",
    "import inspect\n",
    "print(inspect.getsource(foo))"
   ]
  },
  {
   "cell_type": "markdown",
   "metadata": {},
   "source": [
    "# others"
   ]
  },
  {
   "cell_type": "code",
   "execution_count": 15,
   "metadata": {
    "collapsed": false
   },
   "outputs": [
    {
     "name": "stdout",
     "output_type": "stream",
     "text": [
      "-1\n",
      "0\n"
     ]
    }
   ],
   "source": [
    "# nested ternary\n",
    "a, b = 3, 4\n",
    "print(1 if a > b else -1 if a < b else 0)\n",
    "\n",
    "a, b = 3, 3\n",
    "print(1 if a > b else -1 if a < b else 0)"
   ]
  },
  {
   "cell_type": "code",
   "execution_count": 16,
   "metadata": {
    "collapsed": true
   },
   "outputs": [],
   "source": [
    "# list of subclasses\n",
    "#vars()['foo_class'].__subclasses__()"
   ]
  },
  {
   "cell_type": "code",
   "execution_count": 17,
   "metadata": {
    "collapsed": false
   },
   "outputs": [
    {
     "name": "stdout",
     "output_type": "stream",
     "text": [
      "fo\n",
      "ob\n",
      "ar\n"
     ]
    }
   ],
   "source": [
    "def chunker(iterator, size):\n",
    "    return (iterator[pos:pos+size] for pos in range(0, len(iterator), size))\n",
    "\n",
    "for chunk in chunker('foobar', size=2):\n",
    "    print(chunk)"
   ]
  },
  {
   "cell_type": "code",
   "execution_count": 18,
   "metadata": {
    "collapsed": false
   },
   "outputs": [
    {
     "name": "stdout",
     "output_type": "stream",
     "text": [
      "True\n"
     ]
    }
   ],
   "source": [
    "x, y = 3, 31\n",
    "# never use operators for singleton variable.\n",
    "print(x is not y)"
   ]
  },
  {
   "cell_type": "code",
   "execution_count": 19,
   "metadata": {
    "collapsed": false
   },
   "outputs": [
    {
     "name": "stdout",
     "output_type": "stream",
     "text": [
      "False\n"
     ]
    }
   ],
   "source": [
    "# null check\n",
    "print(x is None)"
   ]
  },
  {
   "cell_type": "code",
   "execution_count": 20,
   "metadata": {
    "collapsed": false
   },
   "outputs": [
    {
     "name": "stdout",
     "output_type": "stream",
     "text": [
      "False\n"
     ]
    }
   ],
   "source": [
    "# identity check \n",
    "print(x is y)"
   ]
  },
  {
   "cell_type": "code",
   "execution_count": 21,
   "metadata": {
    "collapsed": false
   },
   "outputs": [
    {
     "name": "stdout",
     "output_type": "stream",
     "text": [
      "False\n",
      "10455104 10456000\n"
     ]
    }
   ],
   "source": [
    "# equality check\n",
    "print(x == y)\n",
    "print(id(x), id(y))"
   ]
  },
  {
   "cell_type": "code",
   "execution_count": 22,
   "metadata": {
    "collapsed": false
   },
   "outputs": [
    {
     "name": "stdout",
     "output_type": "stream",
     "text": [
      "exception\n",
      "done\n"
     ]
    }
   ],
   "source": [
    "try:\n",
    "    1 / 0\n",
    "except:\n",
    "    print('exception')\n",
    "else:\n",
    "    print('no exception')\n",
    "finally:\n",
    "    print('done')"
   ]
  },
  {
   "cell_type": "code",
   "execution_count": null,
   "metadata": {
    "collapsed": true
   },
   "outputs": [],
   "source": []
  },
  {
   "cell_type": "markdown",
   "metadata": {},
   "source": [
    "## locals, globals, vars\n",
    "\n",
    "\n",
    "Python uses namespaces to keep track of variables.\n",
    "\n",
    "local-namespace - specific to current func/method. read only\n",
    "\n",
    "global-namespace - specific to current module, read/write\n",
    "\n",
    "builtin-namespace - global to all modules\n",
    "\n",
    "If locals() is called inside a function it constructs\n",
    "a dictionary of the function namespace as of that moment and returns it.\n",
    "Further name assignments are not reflected in the returned dictionary,\n",
    "and any assignments to the dictionary are not reflected in the actual local namespace.\n",
    "\n",
    "If locals() is called outside a function it returns the\n",
    "actual dictionary that is the current namespace.\n",
    "Further changes to the namespace are reflected in the dictionary,\n",
    "and changes to the dictionary are reflected in the namespace.\n",
    "\n",
    "\n",
    "vars([object]) -> dictionary\n",
    "\n",
    "Without arguments, equivalent to locals().\n",
    "With an argument, equivalent to object.__dict__.\n",
    "\n",
    "\n"
   ]
  },
  {
   "cell_type": "markdown",
   "metadata": {},
   "source": [
    "## unicode"
   ]
  },
  {
   "cell_type": "code",
   "execution_count": 23,
   "metadata": {
    "collapsed": false
   },
   "outputs": [
    {
     "name": "stdout",
     "output_type": "stream",
     "text": [
      "<class 'str'>\n"
     ]
    }
   ],
   "source": [
    "t_string = \"python\"\n",
    "print(type(t_string))"
   ]
  },
  {
   "cell_type": "code",
   "execution_count": 24,
   "metadata": {
    "collapsed": false
   },
   "outputs": [
    {
     "name": "stdout",
     "output_type": "stream",
     "text": [
      "<class 'bytes'>\n"
     ]
    }
   ],
   "source": [
    "t_bytes = b'python'\n",
    "print(type(t_bytes))"
   ]
  },
  {
   "cell_type": "code",
   "execution_count": 25,
   "metadata": {
    "collapsed": false
   },
   "outputs": [
    {
     "name": "stdout",
     "output_type": "stream",
     "text": [
      "<class 'str'>\n"
     ]
    }
   ],
   "source": [
    "t_unicode = u'python'\n",
    "print(type(t_unicode))"
   ]
  },
  {
   "cell_type": "code",
   "execution_count": null,
   "metadata": {
    "collapsed": true
   },
   "outputs": [],
   "source": []
  },
  {
   "cell_type": "markdown",
   "metadata": {},
   "source": [
    "# standard library"
   ]
  },
  {
   "cell_type": "markdown",
   "metadata": {},
   "source": [
    "## collections"
   ]
  },
  {
   "cell_type": "code",
   "execution_count": 26,
   "metadata": {
    "collapsed": false
   },
   "outputs": [
    {
     "data": {
      "text/plain": [
       "True"
      ]
     },
     "execution_count": 26,
     "metadata": {},
     "output_type": "execute_result"
    }
   ],
   "source": [
    "import collections\n",
    "isinstance(dict, collections.Hashable)"
   ]
  },
  {
   "cell_type": "code",
   "execution_count": null,
   "metadata": {
    "collapsed": true
   },
   "outputs": [],
   "source": []
  },
  {
   "cell_type": "markdown",
   "metadata": {},
   "source": [
    "## copy"
   ]
  },
  {
   "cell_type": "code",
   "execution_count": 27,
   "metadata": {
    "collapsed": false
   },
   "outputs": [
    {
     "name": "stdout",
     "output_type": "stream",
     "text": [
      "{1: [1, 2, 3]} {1: [1, 2, 3]}\n",
      "{1: [1, 2, 3, 4]} {1: [1, 2, 3, 4]}\n"
     ]
    }
   ],
   "source": [
    "# shallow copy\n",
    "# content is not copied by value, but just creating a new reference.\n",
    "a = {1: [1,2,3]}\n",
    "b = a.copy()\n",
    "print(a, b)\n",
    "a[1].append(4)\n",
    "print(a, b)"
   ]
  },
  {
   "cell_type": "code",
   "execution_count": 28,
   "metadata": {
    "collapsed": false
   },
   "outputs": [
    {
     "name": "stdout",
     "output_type": "stream",
     "text": [
      "{1: [1, 2, 3, 4]} {1: [1, 2, 3, 4]}\n",
      "{1: [1, 2, 3, 4, 5]} {1: [1, 2, 3, 4]}\n"
     ]
    }
   ],
   "source": [
    "import copy\n",
    "c = copy.deepcopy(a)\n",
    "print(a, c)\n",
    "a[1].append(5)\n",
    "print(a, c)"
   ]
  },
  {
   "cell_type": "code",
   "execution_count": null,
   "metadata": {
    "collapsed": true
   },
   "outputs": [],
   "source": []
  },
  {
   "cell_type": "markdown",
   "metadata": {},
   "source": [
    "## itertools"
   ]
  },
  {
   "cell_type": "code",
   "execution_count": 29,
   "metadata": {
    "collapsed": false
   },
   "outputs": [
    {
     "data": {
      "text/plain": [
       "[1, 2, 3, 4]"
      ]
     },
     "execution_count": 29,
     "metadata": {},
     "output_type": "execute_result"
    }
   ],
   "source": [
    "import itertools\n",
    "\n",
    "#nested list to list\n",
    "n = [[1, 2], [3, 4]]\n",
    "list(itertools.chain.from_iterable(n))"
   ]
  },
  {
   "cell_type": "code",
   "execution_count": 30,
   "metadata": {
    "collapsed": false
   },
   "outputs": [
    {
     "data": {
      "text/plain": [
       "[1, 2, 3, 4]"
      ]
     },
     "execution_count": 30,
     "metadata": {},
     "output_type": "execute_result"
    }
   ],
   "source": [
    "list(itertools.chain(*n))"
   ]
  },
  {
   "cell_type": "code",
   "execution_count": 31,
   "metadata": {
    "collapsed": false
   },
   "outputs": [
    {
     "data": {
      "text/plain": [
       "[(1, 3), (1, 4), (2, 3), (2, 4)]"
      ]
     },
     "execution_count": 31,
     "metadata": {},
     "output_type": "execute_result"
    }
   ],
   "source": [
    "a, b = [1, 2], [3, 4]\n",
    "list(itertools.product(a, b))"
   ]
  },
  {
   "cell_type": "code",
   "execution_count": null,
   "metadata": {
    "collapsed": true
   },
   "outputs": [],
   "source": []
  },
  {
   "cell_type": "markdown",
   "metadata": {},
   "source": [
    "## logging"
   ]
  },
  {
   "cell_type": "code",
   "execution_count": 32,
   "metadata": {
    "collapsed": false
   },
   "outputs": [],
   "source": [
    "# set log level\n",
    "import logging\n",
    "logging.getLogger(\"urllib3\").setLevel(logging.WARNING)"
   ]
  },
  {
   "cell_type": "code",
   "execution_count": null,
   "metadata": {
    "collapsed": true
   },
   "outputs": [],
   "source": []
  },
  {
   "cell_type": "markdown",
   "metadata": {},
   "source": [
    "## os"
   ]
  },
  {
   "cell_type": "code",
   "execution_count": 33,
   "metadata": {
    "collapsed": false
   },
   "outputs": [
    {
     "data": {
      "text/plain": [
       "['exercise', '1', '.ipynb_checkpoints', 'python3.ipynb', 'python2.ipynb']"
      ]
     },
     "execution_count": 33,
     "metadata": {},
     "output_type": "execute_result"
    }
   ],
   "source": [
    "import os\n",
    "\n",
    "os.listdir('.')"
   ]
  },
  {
   "cell_type": "code",
   "execution_count": 34,
   "metadata": {
    "collapsed": false
   },
   "outputs": [
    {
     "data": {
      "text/plain": [
       "True"
      ]
     },
     "execution_count": 34,
     "metadata": {},
     "output_type": "execute_result"
    }
   ],
   "source": [
    "os.path.isfile(test_file)"
   ]
  },
  {
   "cell_type": "code",
   "execution_count": 35,
   "metadata": {
    "collapsed": false
   },
   "outputs": [
    {
     "data": {
      "text/plain": [
       "'/home/anand/projects/01/python/exercise/foo.txt'"
      ]
     },
     "execution_count": 35,
     "metadata": {},
     "output_type": "execute_result"
    }
   ],
   "source": [
    "os.path.abspath(test_file)"
   ]
  },
  {
   "cell_type": "code",
   "execution_count": 36,
   "metadata": {
    "collapsed": false
   },
   "outputs": [
    {
     "data": {
      "text/plain": [
       "True"
      ]
     },
     "execution_count": 36,
     "metadata": {},
     "output_type": "execute_result"
    }
   ],
   "source": [
    "os.path.exists(test_file)"
   ]
  },
  {
   "cell_type": "code",
   "execution_count": 37,
   "metadata": {
    "collapsed": false
   },
   "outputs": [
    {
     "data": {
      "text/plain": [
       "'./exercise'"
      ]
     },
     "execution_count": 37,
     "metadata": {},
     "output_type": "execute_result"
    }
   ],
   "source": [
    "os.path.dirname(test_file)"
   ]
  },
  {
   "cell_type": "code",
   "execution_count": 38,
   "metadata": {
    "collapsed": false
   },
   "outputs": [
    {
     "data": {
      "text/plain": [
       "18"
      ]
     },
     "execution_count": 38,
     "metadata": {},
     "output_type": "execute_result"
    }
   ],
   "source": [
    "os.path.getsize(test_file)"
   ]
  },
  {
   "cell_type": "code",
   "execution_count": 39,
   "metadata": {
    "collapsed": false
   },
   "outputs": [
    {
     "data": {
      "text/plain": [
       "0"
      ]
     },
     "execution_count": 39,
     "metadata": {},
     "output_type": "execute_result"
    }
   ],
   "source": [
    "os.system('ls')"
   ]
  },
  {
   "cell_type": "code",
   "execution_count": null,
   "metadata": {
    "collapsed": true
   },
   "outputs": [],
   "source": []
  },
  {
   "cell_type": "markdown",
   "metadata": {},
   "source": [
    "## pprint"
   ]
  },
  {
   "cell_type": "code",
   "execution_count": 40,
   "metadata": {
    "collapsed": false
   },
   "outputs": [
    {
     "name": "stdout",
     "output_type": "stream",
     "text": [
      "{1: 2,\n",
      " 3: 4}\n"
     ]
    }
   ],
   "source": [
    "# pretty print a object.\n",
    "from pprint import pprint\n",
    "d = {1:2, 3:4}\n",
    "pprint(d, width=1)"
   ]
  },
  {
   "cell_type": "code",
   "execution_count": null,
   "metadata": {
    "collapsed": true
   },
   "outputs": [],
   "source": []
  },
  {
   "cell_type": "markdown",
   "metadata": {},
   "source": [
    "## re"
   ]
  },
  {
   "cell_type": "code",
   "execution_count": 41,
   "metadata": {
    "collapsed": false
   },
   "outputs": [
    {
     "data": {
      "text/plain": [
       "'foobar'"
      ]
     },
     "execution_count": 41,
     "metadata": {},
     "output_type": "execute_result"
    }
   ],
   "source": [
    "import re\n",
    "\n",
    "# strip all whitespaces\n",
    "pattern = re.compile(r'\\s+')   \n",
    "pattern.sub('', ' \\t foo \\n bar \\n ')"
   ]
  },
  {
   "cell_type": "code",
   "execution_count": null,
   "metadata": {
    "collapsed": true
   },
   "outputs": [],
   "source": []
  },
  {
   "cell_type": "markdown",
   "metadata": {},
   "source": [
    "## string"
   ]
  },
  {
   "cell_type": "markdown",
   "metadata": {
    "collapsed": true
   },
   "source": [
    "## sys"
   ]
  },
  {
   "cell_type": "code",
   "execution_count": 42,
   "metadata": {
    "collapsed": false
   },
   "outputs": [
    {
     "data": {
      "text/plain": [
       "88"
      ]
     },
     "execution_count": 42,
     "metadata": {},
     "output_type": "execute_result"
    }
   ],
   "source": [
    "import sys\n",
    "\n",
    "x = [1, 2, 3]\n",
    "\n",
    "# get size of object\n",
    "sys.getsizeof(x)"
   ]
  },
  {
   "cell_type": "code",
   "execution_count": 43,
   "metadata": {
    "collapsed": false
   },
   "outputs": [
    {
     "name": "stdout",
     "output_type": "stream",
     "text": [
      "<module>\n"
     ]
    }
   ],
   "source": [
    "print(sys._getframe().f_code.co_name)"
   ]
  },
  {
   "cell_type": "code",
   "execution_count": null,
   "metadata": {
    "collapsed": true
   },
   "outputs": [],
   "source": []
  },
  {
   "cell_type": "markdown",
   "metadata": {},
   "source": [
    "# Third Party Libraries"
   ]
  },
  {
   "cell_type": "code",
   "execution_count": 44,
   "metadata": {
    "collapsed": true
   },
   "outputs": [],
   "source": [
    "# reloading a module\n",
    "    \n",
    "# py 2.x\n",
    "# reload(module)\n",
    "\n",
    "# py 3.3\n",
    "#imp.reload(module)"
   ]
  },
  {
   "cell_type": "code",
   "execution_count": null,
   "metadata": {
    "collapsed": true
   },
   "outputs": [],
   "source": []
  },
  {
   "cell_type": "code",
   "execution_count": null,
   "metadata": {
    "collapsed": true
   },
   "outputs": [],
   "source": []
  },
  {
   "cell_type": "markdown",
   "metadata": {},
   "source": [
    "## beautifulsoup"
   ]
  },
  {
   "cell_type": "code",
   "execution_count": 45,
   "metadata": {
    "collapsed": false
   },
   "outputs": [
    {
     "ename": "NameError",
     "evalue": "name 'file_name' is not defined",
     "output_type": "error",
     "traceback": [
      "\u001b[1;31m---------------------------------------------------------------------------\u001b[0m",
      "\u001b[1;31mNameError\u001b[0m                                 Traceback (most recent call last)",
      "\u001b[1;32m<ipython-input-45-e98807895a60>\u001b[0m in \u001b[0;36m<module>\u001b[1;34m()\u001b[0m\n\u001b[1;32m----> 1\u001b[1;33m \u001b[1;32mwith\u001b[0m \u001b[0mopen\u001b[0m\u001b[1;33m(\u001b[0m\u001b[0mfile_name\u001b[0m\u001b[1;33m)\u001b[0m \u001b[1;32mas\u001b[0m \u001b[0mfh\u001b[0m\u001b[1;33m:\u001b[0m\u001b[1;33m\u001b[0m\u001b[0m\n\u001b[0m\u001b[0;32m      2\u001b[0m     \u001b[0msoup\u001b[0m \u001b[1;33m=\u001b[0m \u001b[0mBeautifulSoup\u001b[0m\u001b[1;33m(\u001b[0m\u001b[0mfh\u001b[0m\u001b[1;33m,\u001b[0m \u001b[0mparse_only\u001b[0m\u001b[1;33m=\u001b[0m\u001b[0mSoupStrainer\u001b[0m\u001b[1;33m(\u001b[0m\u001b[1;34m'a'\u001b[0m\u001b[1;33m)\u001b[0m\u001b[1;33m)\u001b[0m\u001b[1;33m\u001b[0m\u001b[0m\n\u001b[0;32m      3\u001b[0m     \u001b[1;32mfor\u001b[0m \u001b[0mlink\u001b[0m \u001b[1;32min\u001b[0m \u001b[0msoup\u001b[0m\u001b[1;33m:\u001b[0m\u001b[1;33m\u001b[0m\u001b[0m\n\u001b[0;32m      4\u001b[0m         \u001b[0mprint\u001b[0m\u001b[1;33m(\u001b[0m\u001b[0mlink\u001b[0m\u001b[1;33m)\u001b[0m\u001b[1;33m\u001b[0m\u001b[0m\n",
      "\u001b[1;31mNameError\u001b[0m: name 'file_name' is not defined"
     ]
    }
   ],
   "source": [
    "with open(file_name) as fh:\n",
    "    soup = BeautifulSoup(fh, parse_only=SoupStrainer('a'))\n",
    "    for link in soup:\n",
    "        print(link)"
   ]
  },
  {
   "cell_type": "markdown",
   "metadata": {},
   "source": []
  },
  {
   "cell_type": "markdown",
   "metadata": {
    "attributes": {
     "classes": [
      "shell"
     ],
     "id": ""
    },
    "collapsed": false
   },
   "source": []
  },
  {
   "cell_type": "markdown",
   "metadata": {},
   "source": [
    "## celery"
   ]
  },
  {
   "cell_type": "code",
   "execution_count": null,
   "metadata": {
    "collapsed": false
   },
   "outputs": [],
   "source": [
    "from datetime import datetime\n",
    "result = tasks.add.apply_async(args=[1,2], eta=datetime(2014, 06, 12, 0, 0))\n",
    "result = tasks.add.apply_async(args=[1,2], countdown=10)\n",
    "r = tasks.add.delay()\n",
    "\n",
    "\n",
    "# celery inspect\n",
    "celery status\n",
    "\n",
    "celery inspect active\n",
    "\n",
    "celery purge\n",
    "\n",
    "from celery.task.control import revoke\n",
    "revoke(id)\n",
    "revoke(id, terminate=True)\n",
    "\n",
    "from celery.task.control import inspect\n",
    "i = inspect()\n",
    "i.scheduled()\n",
    "i.active()\n",
    "i.registered()\n",
    "\n",
    "\n",
    "# task result\n",
    "result = my_task.apply_async(args=[1,2])\n",
    "result.ready()\n",
    "result.state\n",
    "\n",
    "\n",
    "# workers\n",
    "\n",
    "celery -A apps.project.tasks worker -l info\n",
    "\n",
    "ps auxww | grep 'celery worker' | awk '{print $2}' | xargs kill -9\n",
    "\n",
    "# run worker from script\n",
    "from myapp import app\n",
    "argv = ['worker', '--loglevel=DEBUG',]\n",
    "app.worker_main(argv)\n",
    "\n",
    "\n",
    "# canvas\n",
    "\n",
    "chain, group, chord"
   ]
  },
  {
   "cell_type": "markdown",
   "metadata": {},
   "source": [
    "## django"
   ]
  },
  {
   "cell_type": "markdown",
   "metadata": {},
   "source": [
    "### forms"
   ]
  },
  {
   "cell_type": "code",
   "execution_count": null,
   "metadata": {
    "collapsed": true
   },
   "outputs": [],
   "source": [
    "# make all form fields not required\n",
    "def __init__(self, *args, **kwargs):\n",
    "    super(TestForm, self).__init__(*args, **kwargs)\n",
    "\n",
    "    for field in self.fields:\n",
    "        self.field.required = False"
   ]
  },
  {
   "cell_type": "code",
   "execution_count": null,
   "metadata": {
    "collapsed": true
   },
   "outputs": [],
   "source": []
  },
  {
   "cell_type": "markdown",
   "metadata": {},
   "source": [
    "### models"
   ]
  },
  {
   "cell_type": "code",
   "execution_count": null,
   "metadata": {
    "collapsed": false
   },
   "outputs": [],
   "source": [
    "# all users where pk < 5\n",
    "User.objects.filter(pk__lt=5)\n",
    "User.objects.filter(pk__lte=5)\n"
   ]
  },
  {
   "cell_type": "markdown",
   "metadata": {
    "collapsed": true
   },
   "source": [
    "### templates"
   ]
  },
  {
   "cell_type": "code",
   "execution_count": null,
   "metadata": {
    "collapsed": false
   },
   "outputs": [],
   "source": [
    "from django.template import loader\n",
    "print(loader.get_template('home.html'))\n",
    "\n",
    "# show all templates\n",
    "from django.template.loaders.app_directories import app_template_dirs\n",
    "template_files = []\n",
    "for template_dir in (settings.TEMPLATE_DIRS + app_template_dirs):\n",
    "    for dir, dirnames, filenames in os.walk(template_dir):\n",
    "        for filename in filenames:\n",
    "        template_files.append(os.path.join(dir, filename))\n",
    "\n",
    "\n",
    "# urls\n",
    "from django.core.urlresolvers import get_resolver, resolve\n",
    "get_resolver(None).reverse_dict.keys()     #All URL Patterns\n",
    "resolve('/')  # resolving URL paths to the corresponding view functions.\n",
    "reverse('/')  # get view\n",
    "reverse_lazy('/')  # lazy version of reverse\n",
    "\n",
    "\n",
    "# admin\n",
    "\"{% url 'admin:index' %}\"\n",
    "\n",
    "\n",
    "# cli\n",
    "python manage.py changepassword admin\n",
    "python manage.py createsuperuser\n",
    "\n",
    "#Reset south migrations - delete ghost migrations\n",
    "rm <app-dir>/migrations/*\n",
    "python manage.py schemamigration <app-name> --initial\n",
    "python manage.py migrate <app-name> 0001 --fake  --delete-ghost-migrations\n",
    "# Check for any errors in the construction of your models\n",
    "python manage.py validate\n",
    "\n",
    "# models\n",
    "# print sql query\n",
    "print(Mymodel.objects.all().query)\n",
    "\n",
    "# show all sql queries\n",
    "from django.db import connection\n",
    "connection.queries\n",
    "\n",
    "# get model to avoid circular imports\n",
    "from django.db.models import get_model\n",
    "get_model('<app>', '<model>')\n",
    "\n",
    "# manually select databse\n",
    "Book.objects.using('test_db').all()\n",
    "\n",
    "# queryset database\n",
    "book._state.db"
   ]
  },
  {
   "cell_type": "markdown",
   "metadata": {},
   "source": [
    "## gunicorn\n",
    "\n",
    "### running gunicorn\n",
    "gunicorn project.wsgi --bind 0.0.0.0:8008 --log-level debug --log-file=- --preload \n",
    "\n",
    "--env DJANGO_SETTINGS_MODULE=project.settings.production"
   ]
  },
  {
   "cell_type": "code",
   "execution_count": null,
   "metadata": {
    "collapsed": true
   },
   "outputs": [],
   "source": []
  },
  {
   "cell_type": "markdown",
   "metadata": {},
   "source": [
    "## json"
   ]
  },
  {
   "cell_type": "code",
   "execution_count": null,
   "metadata": {
    "collapsed": false
   },
   "outputs": [],
   "source": [
    "import json\n",
    "\n",
    "d = ['foo', {'bar': ['baz', None, 1.0, 2]}]\n",
    "j = json.dumps(d)\n",
    "print(type(j), j)"
   ]
  },
  {
   "cell_type": "code",
   "execution_count": null,
   "metadata": {
    "collapsed": false
   },
   "outputs": [],
   "source": [
    "y = json.loads(j)\n",
    "print(type(y), y)"
   ]
  },
  {
   "cell_type": "code",
   "execution_count": null,
   "metadata": {
    "collapsed": false
   },
   "outputs": [],
   "source": [
    "json_file = './exercise/test.json'\n",
    "with open(json_file, 'w') as fp:\n",
    "    json.dump(j, fp)\n",
    "    \n",
    "x = json.load(open(json_file))\n",
    "print(type(x), x)\n",
    "\n",
    "from collections import namedtuple\n",
    "def _json_object_hook(d): \n",
    "    return namedtuple('X', d.keys())(*d.values())\n",
    "\n",
    "def json2obj(data):\n",
    "    return json.loads(data, object_hook=_json_object_hook)\n",
    "\n",
    "x = json2obj(x)\n",
    "print(type(x), x)"
   ]
  },
  {
   "cell_type": "code",
   "execution_count": null,
   "metadata": {
    "collapsed": true
   },
   "outputs": [],
   "source": []
  },
  {
   "cell_type": "markdown",
   "metadata": {},
   "source": [
    "## nltk\n"
   ]
  },
  {
   "cell_type": "code",
   "execution_count": null,
   "metadata": {
    "collapsed": false
   },
   "outputs": [],
   "source": [
    "import nltk\n",
    "s = \"foo!! bar's\"\n",
    "print(nltk.word_tokenize(s))"
   ]
  },
  {
   "cell_type": "code",
   "execution_count": null,
   "metadata": {
    "collapsed": true
   },
   "outputs": [],
   "source": []
  },
  {
   "cell_type": "markdown",
   "metadata": {},
   "source": [
    "## pandas"
   ]
  },
  {
   "cell_type": "code",
   "execution_count": null,
   "metadata": {
    "collapsed": false
   },
   "outputs": [],
   "source": [
    "# on spot averages\n",
    "import pandas as pd\n",
    "\n",
    "df = pd.DataFrame([['a', 2], ['a', 4], ['b', 5]], columns=['x', 'y'])\n",
    "print(df)\n",
    "df.groupby('x')['y'].mean()"
   ]
  },
  {
   "cell_type": "code",
   "execution_count": null,
   "metadata": {
    "collapsed": false
   },
   "outputs": [],
   "source": [
    "# plot pie chart\n",
    "%matplotlib inline\n",
    "\n",
    "df = pd.DataFrame([['a', 2], ['c', 4], ['b', 5]], columns=['x', 'y'])\n",
    "df['y'].plot(kind='pie', title='Population distribution', \n",
    "             figsize=[8,8], fontsize=10, \n",
    "             labels=df['x'], label='Cities',\n",
    "             autopct='%1.1f%%')"
   ]
  },
  {
   "cell_type": "code",
   "execution_count": null,
   "metadata": {
    "collapsed": true
   },
   "outputs": [],
   "source": []
  },
  {
   "cell_type": "code",
   "execution_count": 48,
   "metadata": {
    "collapsed": true
   },
   "outputs": [],
   "source": [
    "## requests"
   ]
  },
  {
   "cell_type": "code",
   "execution_count": null,
   "metadata": {
    "collapsed": true
   },
   "outputs": [],
   "source": []
  },
  {
   "cell_type": "markdown",
   "metadata": {},
   "source": [
    "## scrapy"
   ]
  },
  {
   "cell_type": "code",
   "execution_count": null,
   "metadata": {
    "collapsed": true
   },
   "outputs": [],
   "source": []
  }
 ],
 "metadata": {
  "kernelspec": {
   "display_name": "Python 3",
   "language": "python",
   "name": "python3"
  },
  "language_info": {
   "codemirror_mode": {
    "name": "ipython",
    "version": 3
   },
   "file_extension": ".py",
   "mimetype": "text/x-python",
   "name": "python",
   "nbconvert_exporter": "python",
   "pygments_lexer": "ipython3",
   "version": "3.4.0"
  }
 },
 "nbformat": 4,
 "nbformat_minor": 0
}
